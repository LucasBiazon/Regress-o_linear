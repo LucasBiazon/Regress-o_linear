{
 "cells": [
  {
   "cell_type": "code",
   "execution_count": null,
   "metadata": {},
   "outputs": [],
   "source": [
    "import numpy as np\n",
    "import matplotlib.pyplot as plt\n",
    "\n",
    "producao_arroz = np.array([2150, 4100, 5850, 7400, 8750, 9900, 10850, 11600, 12150, 12500, \n",
    "                           12650, 12600, 12500, 12350, 11600, 10850, 10400, 8100, 6650, \n",
    "                           4646, 3150])\n",
    "volume_chuva = np.array([10, 20, 30, 40, 50, 60, 70, 80, 90, 100, 110, 120, 125, 130, \n",
    "                         145, 155, 160, 180, 190, 202, 210])\n",
    "\n",
    "plt.scatter(volume_chuva, producao_arroz, color='blue', alpha=0.8)\n",
    "plt.xlabel(\"Volume de chuva (mm)\")\n",
    "plt.ylabel(\"Produção de arroz (toneladas)\")\n",
    "plt.title(\"Produção de arroz x Volume de chuva\")\n",
    "plt.show()\n",
    "\n",
    "\n",
    "\n",
    "X_linear = np.vstack([np.ones(len(volume_chuva)), volume_chuva]).T\n",
    "\n",
    "\n",
    "coef_linear = np.linalg.inv(X_linear.T @ X_linear) @ (X_linear.T @ producao_arroz)\n",
    "\n",
    "\n",
    "pred_linear = X_linear @ coef_linear\n",
    "\n",
    "\n",
    "plt.scatter(volume_chuva, producao_arroz, color='blue', alpha=0.8, label='Dados reais')\n",
    "plt.plot(volume_chuva, pred_linear, color='pink', label='Modelo Linear', linewidth=2)\n",
    "plt.xlabel(\"Volume de chuva (mm)\")\n",
    "plt.ylabel(\"Produção de arroz (toneladas)\")\n",
    "plt.title(\"Modelo Linear - Produção de arroz x Volume de chuva\")\n",
    "plt.legend()\n",
    "plt.show()\n",
    "\n",
    "X_quadratic = np.vstack([np.ones(len(volume_chuva)), volume_chuva, volume_chuva**2]).T\n",
    "\n",
    "\n",
    "coef_quadratic = np.linalg.inv(X_quadratic.T @ X_quadratic) @ (X_quadratic.T @ producao_arroz)\n",
    "\n",
    "\n",
    "pred_quadratic = X_quadratic @ coef_quadratic\n",
    "\n",
    "plt.scatter(volume_chuva, producao_arroz, color='blue', alpha=0.8, label='Dados reais')\n",
    "plt.plot(volume_chuva, pred_quadratic, color='green', label='Modelo Quadrático', linewidth=2)\n",
    "plt.xlabel(\"Volume de chuva (mm)\")\n",
    "plt.ylabel(\"Produção de arroz (toneladas)\")\n",
    "plt.title(\"Modelo Quadrático - Produção de arroz x Volume de chuva\")\n",
    "plt.legend()\n",
    "plt.show()"
   ]
  }
 ],
 "metadata": {
  "language_info": {
   "name": "python"
  }
 },
 "nbformat": 4,
 "nbformat_minor": 2
}
